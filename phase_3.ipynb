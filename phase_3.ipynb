{
 "cells": [
  {
   "cell_type": "code",
   "execution_count": 23,
   "metadata": {},
   "outputs": [],
   "source": [
    "# Sciences\n",
    "import face_recognition\n",
    "import numpy as np\n",
    "\n",
    "# Scraping\n",
    "import praw, psaw\n",
    "import requests\n",
    "from io import BytesIO\n",
    "from datetime import datetime\n",
    "\n",
    "# Other\n",
    "import pickle\n",
    "from tqdm import tqdm\n",
    "from PIL import Image\n",
    "import traceback\n",
    "import os"
   ]
  },
  {
   "cell_type": "code",
   "execution_count": 24,
   "metadata": {},
   "outputs": [],
   "source": [
    "all_encodings = np.load('SCUT-encodings.npy')\n",
    "labels = np.load('SCUT-labels.npy')"
   ]
  },
  {
   "cell_type": "code",
   "execution_count": 25,
   "metadata": {},
   "outputs": [
    {
     "name": "stdout",
     "output_type": "stream",
     "text": [
      "Avg Mean Absolute Error: 0.2994605338167279, Std: 0.003406495515663741\n"
     ]
    }
   ],
   "source": [
    "from sklearn.neural_network import MLPRegressor\n",
    "from sklearn.model_selection import cross_val_score\n",
    "from sklearn.metrics import mean_absolute_error, make_scorer\n",
    "\n",
    "network = MLPRegressor(validation_fraction = 0, solver='adam', max_iter= 1000).fit(all_encodings, labels)\n",
    "scores = cross_val_score(network, all_encodings, labels, scoring=make_scorer(mean_absolute_error))\n",
    "print(\"Avg Mean Absolute Error: {0}, Std: {1}\".format(scores.mean(), scores.std()))"
   ]
  },
  {
   "cell_type": "code",
   "execution_count": 29,
   "metadata": {},
   "outputs": [
    {
     "name": "stdout",
     "output_type": "stream",
     "text": [
      "(33082, 128)\n",
      "(10560, 128)\n",
      "(75612, 128)\n"
     ]
    }
   ],
   "source": [
    "pic_path = \"encodings/pics_1425-050720.pkl\"\n",
    "selfie_path = \"encodings/selfies_1647-050720.pkl\"\n",
    "roast_path = \"encodings/roastme_1901-050820.pkl\"\n",
    "pic_encodings, pic_metadata = np.load(pic_path, allow_pickle=True)\n",
    "selfie_encodings, selfie_metadata = np.load(selfie_path, allow_pickle=True)\n",
    "roast_encodings, roast_metadata = np.load(roast_path, allow_pickle=True)\n",
    "print(pic_encodings.shape)\n",
    "print(selfie_encodings.shape)\n",
    "print(roast_encodings.shape)"
   ]
  },
  {
   "cell_type": "code",
   "execution_count": 36,
   "metadata": {},
   "outputs": [],
   "source": [
    "def runAndOut(encoding, fileName):\n",
    "    rating = network.predict(encoding)\n",
    "    print(\"Mean rating (1-5): {:0.2f}, std: {:1.1f}\".format(rating.mean(), rating.std()))\n",
    "    \n",
    "    outfile = open(fileName,'wb')\n",
    "    pickle.dump(rating,outfile)\n",
    "    outfile.close()\n",
    "    "
   ]
  },
  {
   "cell_type": "code",
   "execution_count": 40,
   "metadata": {},
   "outputs": [
    {
     "name": "stdout",
     "output_type": "stream",
     "text": [
      "Mean rating (1-5): 2.77, std: 0.6\n"
     ]
    }
   ],
   "source": [
    "runAndOut(pic_encodings, \"ratings/pic_ratings.pkl\")"
   ]
  },
  {
   "cell_type": "code",
   "execution_count": 41,
   "metadata": {},
   "outputs": [
    {
     "name": "stdout",
     "output_type": "stream",
     "text": [
      "Mean rating (1-5): 3.22, std: 0.6\n"
     ]
    }
   ],
   "source": [
    "runAndOut(selfie_encodings, \"ratings/selfie_ratings.pkl\")"
   ]
  },
  {
   "cell_type": "code",
   "execution_count": 42,
   "metadata": {},
   "outputs": [
    {
     "name": "stdout",
     "output_type": "stream",
     "text": [
      "Mean rating (1-5): 2.97, std: 0.5\n"
     ]
    }
   ],
   "source": [
    "runAndOut(roast_encodings, \"ratings/roast_ratings.pkl\")"
   ]
  }
 ],
 "metadata": {
  "kernelspec": {
   "display_name": "Python 3",
   "language": "python",
   "name": "python3"
  },
  "language_info": {
   "codemirror_mode": {
    "name": "ipython",
    "version": 3
   },
   "file_extension": ".py",
   "mimetype": "text/x-python",
   "name": "python",
   "nbconvert_exporter": "python",
   "pygments_lexer": "ipython3",
   "version": "3.8.1"
  }
 },
 "nbformat": 4,
 "nbformat_minor": 4
}
