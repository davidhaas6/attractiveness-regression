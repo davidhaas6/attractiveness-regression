{
 "cells": [
  {
   "cell_type": "code",
   "execution_count": 105,
   "metadata": {},
   "outputs": [],
   "source": [
    "# Processing content\n",
    "from PIL import Image\n",
    "import face_recognition\n",
    "import numpy as np\n",
    "import pickle\n",
    "\n",
    "# Learning\n",
    "from sklearn.linear_model import LinearRegression\n",
    "\n",
    "from tqdm import tqdm\n",
    "import glob, os\n",
    "from io import BytesIO\n",
    "import requests"
   ]
  },
  {
   "cell_type": "code",
   "execution_count": 73,
   "metadata": {},
   "outputs": [],
   "source": [
    "def encode_image(img_path):\n",
    "    \"\"\" Returns encoding\n",
    "    \"\"\"\n",
    "    img = face_recognition.load_image_file(img_path)\n",
    "\n",
    "    # Search for faces and encode\n",
    "    face_locs = face_recognition.face_locations(img)\n",
    "    if len(face_locs) > 0:\n",
    "        return face_recognition.face_encodings(img, known_face_locations=face_locs)\n",
    "    else:\n",
    "        return [np.zeros((128))]\n",
    "    \n",
    "def encode_web_img(img_url):\n",
    "    try:\n",
    "        img_bytes = requests.get(img_url).content\n",
    "        img = face_recognition.load_image_file(BytesIO(img_bytes))\n",
    "    except Exception as e:\n",
    "        print(e)\n",
    "        return False\n",
    "\n",
    "    # Search for faces and encode\n",
    "    face_locs = face_recognition.face_locations(img)\n",
    "    if len(face_locs) > 0:\n",
    "        encodings = face_recognition.face_encodings(img, known_face_locations=face_locs)\n",
    "        return encodings\n",
    "    else:\n",
    "        return [np.zeros((128))]\n"
   ]
  },
  {
   "cell_type": "code",
   "execution_count": 21,
   "metadata": {},
   "outputs": [
    {
     "name": "stderr",
     "output_type": "stream",
     "text": [
      "100%|██████████| 5500/5500 [06:21<00:00, 14.40it/s]\n"
     ]
    }
   ],
   "source": [
    "# Build encodings (samples)\n",
    "datapath = './SCUT-FBP5500_v2/Images/*'\n",
    "img_paths = glob.glob(datapath)\n",
    "all_encodings = np.zeros((len(img_paths),128))\n",
    "\n",
    "# Encode\n",
    "for i, img_path in enumerate(tqdm(img_paths)):\n",
    "    encodings = encode_image(impath)\n",
    "    for enc in encodings:\n",
    "        all_encodings[i,:] = enc\n",
    "        \n",
    "# Save\n",
    "np.save(\"SCUT-encodings.npy\", all_encodings)"
   ]
  },
  {
   "cell_type": "code",
   "execution_count": 37,
   "metadata": {},
   "outputs": [],
   "source": [
    "# Build labels (targets)\n",
    "with open('SCUT-FBP5500_v2/train_test_files/All_labels.txt') as f:\n",
    "    # keys: filenames  //  values: ratings\n",
    "    file_labels = {line.split(' ')[0]:float(line.split(' ')[1].strip()) for line in f.readlines()}\n",
    "    \n",
    "    labels = np.zeros((len(img_paths)))\n",
    "    for i,path in enumerate(img_paths):\n",
    "        _, filename = os.path.split(path) \n",
    "        labels[i] = file_labels[filename]\n",
    "        \n",
    "    np.save(\"SCUT-labels.npy\", all_encodings)"
   ]
  },
  {
   "cell_type": "code",
   "execution_count": 54,
   "metadata": {},
   "outputs": [],
   "source": [
    "file_encodings = {os.path.split(path):all_encodings[i,:] for i, path in enumerate(img_paths)}"
   ]
  },
  {
   "cell_type": "code",
   "execution_count": 53,
   "metadata": {},
   "outputs": [
    {
     "data": {
      "text/plain": [
       "0.6976930860192612"
      ]
     },
     "execution_count": 53,
     "metadata": {},
     "output_type": "execute_result"
    }
   ],
   "source": [
    "reg = LinearRegression().fit(all_encodings, labels)\n",
    "reg.score(all_encodings, labels)\n",
    "# https://scikit-learn.org/stable/modules/generated/sklearn.linear_model.LinearRegression.html#sklearn.linear_model.LinearRegression"
   ]
  },
  {
   "cell_type": "code",
   "execution_count": 64,
   "metadata": {},
   "outputs": [
    {
     "name": "stdout",
     "output_type": "stream",
     "text": [
      "Avg Mean Absolute Error: 0.3043340797611177, Std: 0.006679926141786312\n"
     ]
    }
   ],
   "source": [
    "from sklearn.model_selection import cross_val_score\n",
    "from sklearn.metrics import mean_absolute_error, make_scorer\n",
    "scores = cross_val_score(reg, all_encodings, labels, scoring=make_scorer(mean_absolute_error))\n",
    "print(\"Avg Mean Absolute Error: {0}, Std: {1}\".format(scores.mean(), scores.std()))\n",
    "# https://scikit-learn.org/stable/modules/cross_validation.html"
   ]
  },
  {
   "cell_type": "code",
   "execution_count": 1,
   "metadata": {},
   "outputs": [
    {
     "output_type": "error",
     "ename": "NameError",
     "evalue": "name 'encode_web_img' is not defined",
     "traceback": [
      "\u001b[0;31m---------------------------------------------------------------------------\u001b[0m",
      "\u001b[0;31mNameError\u001b[0m                                 Traceback (most recent call last)",
      "\u001b[0;32m<ipython-input-1-ad04507e6f8c>\u001b[0m in \u001b[0;36m<module>\u001b[0;34m\u001b[0m\n\u001b[1;32m      1\u001b[0m \u001b[0;31m# Rate an image from a URL\u001b[0m\u001b[0;34m\u001b[0m\u001b[0;34m\u001b[0m\u001b[0;34m\u001b[0m\u001b[0m\n\u001b[1;32m      2\u001b[0m \u001b[0mmyurl\u001b[0m \u001b[0;34m=\u001b[0m \u001b[0minput\u001b[0m\u001b[0;34m(\u001b[0m\u001b[0;34m)\u001b[0m\u001b[0;34m\u001b[0m\u001b[0;34m\u001b[0m\u001b[0m\n\u001b[0;32m----> 3\u001b[0;31m \u001b[0menc\u001b[0m \u001b[0;34m=\u001b[0m \u001b[0mencode_web_img\u001b[0m\u001b[0;34m(\u001b[0m\u001b[0mmyurl\u001b[0m\u001b[0;34m)\u001b[0m\u001b[0;34m\u001b[0m\u001b[0;34m\u001b[0m\u001b[0m\n\u001b[0m\u001b[1;32m      4\u001b[0m \u001b[0mprint\u001b[0m\u001b[0;34m(\u001b[0m\u001b[0;34m\"Rating:\"\u001b[0m\u001b[0;34m,\u001b[0m \u001b[0mround\u001b[0m\u001b[0;34m(\u001b[0m\u001b[0mreg\u001b[0m\u001b[0;34m.\u001b[0m\u001b[0mpredict\u001b[0m\u001b[0;34m(\u001b[0m\u001b[0menc\u001b[0m\u001b[0;34m)\u001b[0m\u001b[0;34m[\u001b[0m\u001b[0;36m0\u001b[0m\u001b[0;34m]\u001b[0m\u001b[0;34m*\u001b[0m \u001b[0;36m2\u001b[0m\u001b[0;34m,\u001b[0m\u001b[0;36m1\u001b[0m\u001b[0;34m)\u001b[0m\u001b[0;34m)\u001b[0m\u001b[0;34m\u001b[0m\u001b[0;34m\u001b[0m\u001b[0m\n",
      "\u001b[0;31mNameError\u001b[0m: name 'encode_web_img' is not defined"
     ]
    }
   ],
   "source": [
    "# Rate an image from a URL\n",
    "myurl = input()\n",
    "enc = encode_web_img(myurl)\n",
    "print(\"Rating:\", round(reg.predict(enc)[0]* 2,1))"
   ]
  },
  {
   "cell_type": "code",
   "execution_count": null,
   "metadata": {},
   "outputs": [],
   "source": []
  }
 ],
 "metadata": {
  "kernelspec": {
   "display_name": "Python 3",
   "language": "python",
   "name": "python3"
  },
  "language_info": {
   "codemirror_mode": {
    "name": "ipython",
    "version": 3
   },
   "file_extension": ".py",
   "mimetype": "text/x-python",
   "name": "python",
   "nbconvert_exporter": "python",
   "pygments_lexer": "ipython3",
   "version": "3.6.9-final"
  }
 },
 "nbformat": 4,
 "nbformat_minor": 4
}