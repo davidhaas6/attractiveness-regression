{
 "cells": [
  {
   "cell_type": "markdown",
   "metadata": {
    "colab_type": "text",
    "id": "vYav5m8BUxDr"
   },
   "source": [
    "# Do attractive Redditors get more upvotes?\n"
   ]
  },
  {
   "cell_type": "markdown",
   "metadata": {
    "colab_type": "text",
    "id": "Wx2xJDDsdrRG"
   },
   "source": [
    "**Group 17**: **Jack Silk** (jsilk13), **David Haas** (dhaas6), **Spencer Mullinix** (mullisd1)"
   ]
  },
  {
   "cell_type": "markdown",
   "metadata": {
    "colab_type": "text",
    "id": "eNXoQ73-U78H"
   },
   "source": [
    "<b>Is there a correlation between the attractiveness of the redditor and the number of upvotes they get?</b>  We believe that the higher the physical attractiveness of the redditor is, the more upvotes they will receive.  Whether it is conscious or subconscious, we think that to some degree, users decide whether to upvote a post or not based on the attractivness of the poster."
   ]
  },
  {
   "cell_type": "markdown",
   "metadata": {
    "colab_type": "text",
    "id": "dYlpPWr5U8Gz"
   },
   "source": [
    "<b>How will we determine the physical attractiveness of a Reddit user?</b>  We are going to use a facial recognition algorithm to apply a rating of physical attractiveness to the user.  Dlib's facial recognition tool creates a vector of 128 values based on the features of a person's face.  We will use this vector to create our rating scale."
   ]
  },
  {
   "cell_type": "code",
   "execution_count": 8,
   "metadata": {
    "colab": {},
    "colab_type": "code",
    "id": "wrx75eguLY4c"
   },
   "outputs": [],
   "source": [
    "# Sciences\n",
    "import face_recognition\n",
    "import numpy as np\n",
    "\n",
    "# Scraping\n",
    "import praw, psaw\n",
    "import requests\n",
    "from io import BytesIO\n",
    "from datetime import datetime\n",
    "\n",
    "# Other\n",
    "import pickle\n",
    "from tqdm import tqdm\n",
    "from PIL import Image\n",
    "import traceback\n",
    "import os\n"
   ]
  },
  {
   "cell_type": "code",
   "execution_count": 23,
   "metadata": {
    "colab": {},
    "colab_type": "code",
    "id": "YMWqAc8GNX38"
   },
   "outputs": [],
   "source": [
    "def encode_image(img_path):\n",
    "    \"\"\" Returns encoding\n",
    "    \"\"\"\n",
    "    img = face_recognition.load_image_file(img_path)\n",
    "\n",
    "    # Search for faces and encode\n",
    "    face_locs = face_recognition.face_locations(img)\n",
    "    if len(face_locs) > 0:\n",
    "        return face_recognition.face_encodings(img, known_face_locations=face_locs)\n",
    "    else:\n",
    "        return [np.zeros((128))]"
   ]
  },
  {
   "cell_type": "code",
   "execution_count": 24,
   "metadata": {
    "colab": {},
    "colab_type": "code",
    "id": "ul62TAaBMRd7"
   },
   "outputs": [],
   "source": [
    "# Connect to Reddit and Pushshift\n",
    "reddit_client = praw.Reddit(client_id='6ZOjAwnqUehb5Q', \n",
    "                            client_secret='gc4rkA50yNq9pBn1diU11Xj1nKY', \n",
    "                            user_agent='ffinder_test')\n",
    "api = psaw.PushshiftAPI(reddit_client)\n",
    "deleted_reddit, deleted_imgur = pickle.load(open('./content/deleted_binaries.pkl', 'rb'))"
   ]
  },
  {
   "cell_type": "markdown",
   "metadata": {
    "colab_type": "text",
    "id": "N_LIYbUIfwFz"
   },
   "source": [
    "Data Gathered:\n",
    "\n",
    "\n",
    "*   Facial encodings of pictures containing faces\n",
    "*   URLs to Reddit post and direct image\n",
    "*   The score for that post (upvotes - downvotes)\n",
    "\n",
    "generate_encodings() makes Pushshift API calls, collecting results for the inputted subreddit over a given time period. Each result is passed into process_image() which encodes any present faces and extracts the metadata (URLs and score).\n",
    "\n",
    "After the face_limit is met in generate_encodings, the function returns an two arrays, one for the encodings and one for the metadata."
   ]
  },
  {
   "cell_type": "code",
   "execution_count": 25,
   "metadata": {
    "colab": {},
    "colab_type": "code",
    "id": "m7_8QGeKPvet"
   },
   "outputs": [],
   "source": [
    "def is_img(path):\n",
    "    return path[-4:] in {\".png\", '.jpg'}\n",
    "\n",
    "\n",
    "def process_image(api_result):\n",
    "    \"\"\" Downloads image from the Pushshift api entry and encodes it if there are faces present\n",
    "        Arguments:\n",
    "            api_result (psaw api result): A single entry in the psaw search query result\n",
    "        Returns:\n",
    "            False if unsuccessful\n",
    "            tuple of encoding and metadata if successfull\n",
    "    \"\"\"\n",
    "    if not is_img(api_result.url):  return False\n",
    "\n",
    "    # Fetch and load image\n",
    "    try:\n",
    "        img_bytes = requests.get(api_result.url).content\n",
    "        if img_bytes == deleted_imgur or img_bytes == deleted_reddit:  return False\n",
    "        img = face_recognition.load_image_file(BytesIO(img_bytes))\n",
    "    except:\n",
    "        return False\n",
    "\n",
    "    # Search for faces and encode\n",
    "    face_locs = face_recognition.face_locations(img)\n",
    "    if len(face_locs) > 0:\n",
    "        encodings = face_recognition.face_encodings(img, known_face_locations=face_locs)\n",
    "        return encodings, (api_result.shortlink, api_result.url, api_result.score)\n",
    "    else:\n",
    "        return False\n",
    "\n",
    "\n",
    "def generate_encodings(subreddit, face_limit=10e7):\n",
    "    \"\"\" Generates a set of facial encodings from each valid image on a subreddit\n",
    "        Given a subreddit, this function collects its images, starting with the most recent in multi-day chunks.\n",
    "        After downloading an image, it is analyzed for faces, and if faces are present it generates an encoding\n",
    "        and stores metadata about the image to be pickled and saved.\n",
    "        \n",
    "        Args:\n",
    "            subreddit (str): The subreddit name to process images from\n",
    "            image_limit (int): The maximum number of images to process.\n",
    "        Returns:\n",
    "            tuple: (A Nx128 matrix of encodings, a list of metadata corresponding by index to each row in the matrix)\n",
    "    \"\"\"\n",
    "\n",
    "    encodings = np.zeros((0,128))\n",
    "    metadata = []\n",
    "    \n",
    "    CHUNK_SIZE = 1 * 86400  # 1 day chunks\n",
    "    chunk_end = datetime.now().timestamp()\n",
    "    chunk_start = chunk_end - CHUNK_SIZE\n",
    "    stop = False\n",
    "\n",
    "    while not stop:\n",
    "        prev_length = encodings.shape[0]\n",
    "        face_data = []\n",
    "        # Process the chunk of api data\n",
    "        try:\n",
    "            chunk_data = api.search_submissions(before=int(chunk_end), after=int(chunk_start), subreddit=subreddit)\n",
    "\n",
    "            # Process the API results for faces\n",
    "            face_data = list(map(process_image, chunk_data))\n",
    "\n",
    "            # Separate and store face_data into encodings and metadata\n",
    "            for entry in face_data:\n",
    "                if type(entry) is not tuple:  continue\n",
    "                enc, meta = entry\n",
    "                encodings = np.vstack((encodings,enc))\n",
    "\n",
    "                num_faces = len(enc)\n",
    "                for i in range(num_faces):\n",
    "                    metadata.append(meta)\n",
    "\n",
    "            # Print results\n",
    "            length = encodings.shape[0]\n",
    "            num_added = length - prev_length\n",
    "            face_per_img = 0 if len(face_data) == 0 else num_added/len(face_data)\n",
    "            \n",
    "            stop = length >= face_limit or length == prev_length\n",
    "            print(\"%i new faces encoded (avg %.2f faces per image)! Total = %i\" % (num_added, face_per_img, length))\n",
    "        \n",
    "        except Exception as e:\n",
    "            print(\"ERROR: \")\n",
    "            traceback.print_exc()\n",
    "\n",
    "        chunk_end = chunk_start-1\n",
    "        chunk_start = chunk_end - CHUNK_SIZE\n",
    "        \n",
    "    return encodings, metadata"
   ]
  },
  {
   "cell_type": "code",
   "execution_count": null,
   "metadata": {
    "colab": {},
    "colab_type": "code",
    "id": "xNZn1kpESK40"
   },
   "outputs": [],
   "source": [
    "encodings, metadata = generate_encodings('selfies', 300)"
   ]
  },
  {
   "cell_type": "markdown",
   "metadata": {
    "colab": {},
    "colab_type": "code",
    "id": "1ceREo4rhXHh"
   },
   "source": [
    "With the ability to now collect large amounts of faces from Reddit and encode them, we can focus on the analysis of each encoding, and converting them to a beauty rating (1-5). \n",
    "We split this step between group members so that we could develop different approaches and avoid a bottleneck on this step.\n",
    "\n",
    "First is our linear regression model."
   ]
  },
  {
   "cell_type": "markdown",
   "metadata": {},
   "source": [
    "Before we do any predicting, we must train the model off of the [SCUT-FBP5500](https://github.com/HCIILAB/SCUT-FBP5500-Database-Release) Dataset encodings"
   ]
  },
  {
   "cell_type": "code",
   "execution_count": null,
   "metadata": {
    "scrolled": false
   },
   "outputs": [],
   "source": [
    "# Build encodings (samples) as inputs to the regression model\n",
    "import glob\n",
    "from sklearn.linear_model import LinearRegression\n",
    "\n",
    "\n",
    "datapath = './SCUT-FBP5500_v2/Images/*'\n",
    "img_paths = glob.glob(datapath)\n",
    "all_encodings = np.zeros((len(img_paths),128))\n",
    "\n",
    "# Encode\n",
    "for i, img_path in enumerate(img_paths):\n",
    "    encodings = encode_image(img_path)\n",
    "    for enc in encodings:\n",
    "        all_encodings[i,:] = enc\n",
    "        \n",
    "# Save\n",
    "np.save(\"SCUT-encodings.npy\", all_encodings)\n",
    "\n",
    "# Build labels (targets)\n",
    "with open('SCUT-FBP5500_v2/train_test_files/All_labels.txt') as f:\n",
    "    # keys: filenames  //  values: ratings\n",
    "    file_labels = {line.split(' ')[0]:float(line.split(' ')[1].strip()) for line in f.readlines()}\n",
    "    \n",
    "    labels = np.zeros((len(img_paths)))\n",
    "    for i,path in enumerate(img_paths):\n",
    "        _, filename = os.path.split(path) \n",
    "        labels[i] = file_labels[filename]\n",
    "        \n",
    "    np.save(\"SCUT-labels.npy\", labels)"
   ]
  },
  {
   "cell_type": "code",
   "execution_count": 12,
   "metadata": {},
   "outputs": [],
   "source": [
    "all_encodings = np.load('SCUT-encodings.npy')\n",
    "labels = np.load('SCUT-labels.npy')"
   ]
  },
  {
   "cell_type": "code",
   "execution_count": 13,
   "metadata": {},
   "outputs": [
    {
     "name": "stdout",
     "output_type": "stream",
     "text": [
      "[[-0.11003712  0.04569392  0.07832608 ... -0.03538962  0.04172648\n",
      "  -0.00650166]\n",
      " [-0.02509105  0.04950476  0.01658421 ... -0.08789321  0.16508803\n",
      "  -0.02094195]\n",
      " [-0.10630707  0.13151646  0.10914098 ... -0.06461035  0.06733254\n",
      "  -0.01326104]\n",
      " ...\n",
      " [-0.08162953  0.05059871  0.03242504 ... -0.0759866   0.10453327\n",
      "   0.03841674]\n",
      " [-0.09661861  0.05757315  0.07216612 ... -0.05055808 -0.03908116\n",
      "   0.00097661]\n",
      " [-0.10787126  0.06926876  0.1401426  ... -0.00086246 -0.02051616\n",
      "   0.05431798]]\n",
      "[2.066667 3.433333 2.066667 ... 3.983333 1.9      3.833333]\n",
      "Avg Mean Absolute Error: 0.30598227227473007, Std: 0.0049610452935545755\n"
     ]
    }
   ],
   "source": [
    "# Train and score the model\n",
    "from sklearn.linear_model import LinearRegression\n",
    "model = LinearRegression().fit(all_encodings, labels)\n",
    "\n",
    "from sklearn.model_selection import cross_val_score\n",
    "from sklearn.metrics import mean_absolute_error, make_scorer\n",
    "scores = cross_val_score(model, all_encodings, labels, scoring=make_scorer(mean_absolute_error))\n",
    "print(\"Avg Mean Absolute Error: {0}, Std: {1}\".format(scores.mean(), scores.std()))"
   ]
  },
  {
   "cell_type": "code",
   "execution_count": 14,
   "metadata": {},
   "outputs": [
    {
     "ename": "FileNotFoundError",
     "evalue": "[Errno 2] No such file or directory: 'roastme_1140-122419.pkl'",
     "output_type": "error",
     "traceback": [
      "\u001b[1;31m---------------------------------------------------------------------------\u001b[0m",
      "\u001b[1;31mFileNotFoundError\u001b[0m                         Traceback (most recent call last)",
      "\u001b[1;32m<ipython-input-14-875df250b9b2>\u001b[0m in \u001b[0;36m<module>\u001b[1;34m\u001b[0m\n\u001b[0;32m      1\u001b[0m \u001b[1;31m# Run the model on /r/roastme encodings\u001b[0m\u001b[1;33m\u001b[0m\u001b[1;33m\u001b[0m\u001b[1;33m\u001b[0m\u001b[0m\n\u001b[1;32m----> 2\u001b[1;33m \u001b[0mencodings\u001b[0m\u001b[1;33m,\u001b[0m \u001b[0mmeta\u001b[0m \u001b[1;33m=\u001b[0m \u001b[0mpickle\u001b[0m\u001b[1;33m.\u001b[0m\u001b[0mload\u001b[0m\u001b[1;33m(\u001b[0m\u001b[0mopen\u001b[0m\u001b[1;33m(\u001b[0m\u001b[1;34m'roastme_1140-122419.pkl'\u001b[0m\u001b[1;33m,\u001b[0m \u001b[1;34m'rb'\u001b[0m\u001b[1;33m)\u001b[0m\u001b[1;33m)\u001b[0m\u001b[1;33m\u001b[0m\u001b[1;33m\u001b[0m\u001b[0m\n\u001b[0m\u001b[0;32m      3\u001b[0m \u001b[0mprint\u001b[0m\u001b[1;33m(\u001b[0m\u001b[1;34m\"Num faces:\"\u001b[0m\u001b[1;33m,\u001b[0m \u001b[0mlen\u001b[0m\u001b[1;33m(\u001b[0m\u001b[0mencodings\u001b[0m\u001b[1;33m)\u001b[0m\u001b[1;33m)\u001b[0m\u001b[1;33m\u001b[0m\u001b[1;33m\u001b[0m\u001b[0m\n\u001b[0;32m      4\u001b[0m \u001b[0mratings\u001b[0m \u001b[1;33m=\u001b[0m \u001b[0mmodel\u001b[0m\u001b[1;33m.\u001b[0m\u001b[0mpredict\u001b[0m\u001b[1;33m(\u001b[0m\u001b[0mencodings\u001b[0m\u001b[1;33m)\u001b[0m\u001b[1;33m\u001b[0m\u001b[1;33m\u001b[0m\u001b[0m\n\u001b[0;32m      5\u001b[0m \u001b[0mprint\u001b[0m\u001b[1;33m(\u001b[0m\u001b[1;34m\"Mean rating (1-5): {:0.2f}, std: {:1.1f}\"\u001b[0m\u001b[1;33m.\u001b[0m\u001b[0mformat\u001b[0m\u001b[1;33m(\u001b[0m\u001b[0mratings\u001b[0m\u001b[1;33m.\u001b[0m\u001b[0mmean\u001b[0m\u001b[1;33m(\u001b[0m\u001b[1;33m)\u001b[0m\u001b[1;33m,\u001b[0m \u001b[0mratings\u001b[0m\u001b[1;33m.\u001b[0m\u001b[0mstd\u001b[0m\u001b[1;33m(\u001b[0m\u001b[1;33m)\u001b[0m\u001b[1;33m)\u001b[0m\u001b[1;33m)\u001b[0m\u001b[1;33m\u001b[0m\u001b[1;33m\u001b[0m\u001b[0m\n",
      "\u001b[1;31mFileNotFoundError\u001b[0m: [Errno 2] No such file or directory: 'roastme_1140-122419.pkl'"
     ]
    }
   ],
   "source": [
    "# Run the model on /r/roastme encodings\n",
    "encodings, meta = pickle.load(open('roastme_1140-122419.pkl', 'rb'))\n",
    "print(\"Num faces:\", len(encodings))\n",
    "ratings = model.predict(encodings)\n",
    "print(\"Mean rating (1-5): {:0.2f}, std: {:1.1f}\".format(ratings.mean(), ratings.std()))"
   ]
  },
  {
   "cell_type": "code",
   "execution_count": 49,
   "metadata": {
    "scrolled": true
   },
   "outputs": [
    {
     "data": {
      "text/plain": [
       "(array([1.1100e+02, 9.9100e+02, 4.1620e+03, 1.3480e+04, 3.2134e+04,\n",
       "        4.4454e+04, 3.0181e+04, 8.8980e+03, 1.0260e+03, 3.9000e+01]),\n",
       " array([0.92201495, 1.32300042, 1.72398589, 2.12497136, 2.52595683,\n",
       "        2.9269423 , 3.32792777, 3.72891324, 4.12989871, 4.53088418,\n",
       "        4.93186965]),\n",
       " <a list of 10 Patch objects>)"
      ]
     },
     "execution_count": 49,
     "metadata": {},
     "output_type": "execute_result"
    },
    {
     "data": {
      "image/png": "[encoded data removed]",
      "text/plain": [
       "<Figure size 432x288 with 1 Axes>"
      ]
     },
     "metadata": {
      "needs_background": "light"
     },
     "output_type": "display_data"
    }
   ],
   "source": [
    "import matplotlib.pyplot as plt\n",
    "plt.hist(ratings)"
   ]
  },
  {
   "cell_type": "markdown",
   "metadata": {},
   "source": [
    "For such a large dataset, one would expect that if beauty, like other human phenotypes, is normally distributed, that the average output would be the median of possible scores (1 through 5). As one can see above, after analyzing 130,000+ faces, our model returns an average rating of 3/5: the median of possible scores.\n",
    "\n",
    "Additionally, upon plotting the calculated ratings one can see that they are organized normally."
   ]
  },
  {
   "cell_type": "code",
   "execution_count": null,
   "metadata": {},
   "outputs": [],
   "source": [
    "from sklearn.neural_network import MLPRegressor\n",
    "network = MLPRegressor(validation_fraction = 0, solver='adam', max_iter= 1000).fit(all_encodings, labels)\n",
    "scores = cross_val_score(network, all_encodings, labels, scoring=make_scorer(mean_absolute_error))\n",
    "print(\"Avg Mean Absolute Error: {0}, Std: {1}\".format(scores.mean(), scores.std()))"
   ]
  },
  {
   "cell_type": "code",
   "execution_count": 11,
   "metadata": {},
   "outputs": [
    {
     "ename": "FileNotFoundError",
     "evalue": "[Errno 2] No such file or directory: 'roastme_1140-122419.pkl'",
     "output_type": "error",
     "traceback": [
      "\u001b[1;31m---------------------------------------------------------------------------\u001b[0m",
      "\u001b[1;31mFileNotFoundError\u001b[0m                         Traceback (most recent call last)",
      "\u001b[1;32m<ipython-input-11-0a6e30a8d824>\u001b[0m in \u001b[0;36m<module>\u001b[1;34m\u001b[0m\n\u001b[0;32m      1\u001b[0m \u001b[1;31m# Run the model on /r/roastme encodings\u001b[0m\u001b[1;33m\u001b[0m\u001b[1;33m\u001b[0m\u001b[1;33m\u001b[0m\u001b[0m\n\u001b[1;32m----> 2\u001b[1;33m \u001b[0mencodings\u001b[0m\u001b[1;33m,\u001b[0m \u001b[0mmeta\u001b[0m \u001b[1;33m=\u001b[0m \u001b[0mpickle\u001b[0m\u001b[1;33m.\u001b[0m\u001b[0mload\u001b[0m\u001b[1;33m(\u001b[0m\u001b[0mopen\u001b[0m\u001b[1;33m(\u001b[0m\u001b[1;34m'roastme_1140-122419.pkl'\u001b[0m\u001b[1;33m,\u001b[0m \u001b[1;34m'rb'\u001b[0m\u001b[1;33m)\u001b[0m\u001b[1;33m)\u001b[0m\u001b[1;33m\u001b[0m\u001b[1;33m\u001b[0m\u001b[0m\n\u001b[0m\u001b[0;32m      3\u001b[0m \u001b[0mprint\u001b[0m\u001b[1;33m(\u001b[0m\u001b[1;34m\"Num faces:\"\u001b[0m\u001b[1;33m,\u001b[0m \u001b[0mlen\u001b[0m\u001b[1;33m(\u001b[0m\u001b[0mencodings\u001b[0m\u001b[1;33m)\u001b[0m\u001b[1;33m)\u001b[0m\u001b[1;33m\u001b[0m\u001b[1;33m\u001b[0m\u001b[0m\n\u001b[0;32m      4\u001b[0m \u001b[0mratings\u001b[0m \u001b[1;33m=\u001b[0m \u001b[0mnetwork\u001b[0m\u001b[1;33m.\u001b[0m\u001b[0mpredict\u001b[0m\u001b[1;33m(\u001b[0m\u001b[0mencodings\u001b[0m\u001b[1;33m)\u001b[0m\u001b[1;33m\u001b[0m\u001b[1;33m\u001b[0m\u001b[0m\n\u001b[0;32m      5\u001b[0m \u001b[0mprint\u001b[0m\u001b[1;33m(\u001b[0m\u001b[1;34m\"Mean rating (1-5): {:0.2f}, std: {:1.1f}\"\u001b[0m\u001b[1;33m.\u001b[0m\u001b[0mformat\u001b[0m\u001b[1;33m(\u001b[0m\u001b[0mratings\u001b[0m\u001b[1;33m.\u001b[0m\u001b[0mmean\u001b[0m\u001b[1;33m(\u001b[0m\u001b[1;33m)\u001b[0m\u001b[1;33m,\u001b[0m \u001b[0mratings\u001b[0m\u001b[1;33m.\u001b[0m\u001b[0mstd\u001b[0m\u001b[1;33m(\u001b[0m\u001b[1;33m)\u001b[0m\u001b[1;33m)\u001b[0m\u001b[1;33m)\u001b[0m\u001b[1;33m\u001b[0m\u001b[1;33m\u001b[0m\u001b[0m\n",
      "\u001b[1;31mFileNotFoundError\u001b[0m: [Errno 2] No such file or directory: 'roastme_1140-122419.pkl'"
     ]
    }
   ],
   "source": [
    "# Run the model on /r/roastme encodings\n",
    "print(\"Num faces:\", len(encodings))\n",
    "ratings = network.predict(encodings)\n",
    "print(\"Mean rating (1-5): {:0.2f}, std: {:1.1f}\".format(ratings.mean(), ratings.std()))\n",
    "plt.hist(ratings)"
   ]
  }
 ],
 "metadata": {
  "accelerator": "GPU",
  "colab": {
   "collapsed_sections": [],
   "name": "phase1.ipynb",
   "provenance": [],
   "toc_visible": true
  },
  "kernelspec": {
   "display_name": "Python 3",
   "language": "python",
   "name": "python3"
  },
  "language_info": {
   "codemirror_mode": {
    "name": "ipython",
    "version": 3
   },
   "file_extension": ".py",
   "mimetype": "text/x-python",
   "name": "python",
   "nbconvert_exporter": "python",
   "pygments_lexer": "ipython3",
   "version": "3.8.1"
  }
 },
 "nbformat": 4,
 "nbformat_minor": 1
}
